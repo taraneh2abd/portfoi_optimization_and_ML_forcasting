{
 "cells": [
  {
   "cell_type": "code",
   "execution_count": null,
   "metadata": {},
   "outputs": [],
   "source": [
    "import subprocess\n",
    "\n",
    "\n",
    "notebook_files = ['notebook1.ipynb', 'notebook2.ipynb', 'notebook3.ipynb', 'notebook4.ipynb', 'notebook5.ipynb', 'notebook6.ipynb', 'notebook7.ipynb', 'notebook8.ipynb']\n",
    "\n",
    "\n",
    "results = {}\n",
    "\n",
    "for notebook_file in notebook_files:\n",
    "    try:\n",
    "        \n",
    "        result = subprocess.run(['jupyter', 'nbconvert', '--to', 'notebook', '--execute', notebook_file], stdout=subprocess.PIPE, stderr=subprocess.PIPE, text=True)\n",
    "\n",
    "        \n",
    "        if result.returncode == 0:\n",
    "            results[notebook_file] = \"Success\"\n",
    "        else:\n",
    "            results[notebook_file] = \"Failed\"\n",
    "    except Exception as e:\n",
    "        results[notebook_file] = str(e)\n",
    "\n",
    "\n",
    "for notebook, result in results.items():\n",
    "    print(f\"{notebook}: {result}\")\n"
   ]
  }
 ],
 "metadata": {
  "language_info": {
   "name": "python"
  },
  "orig_nbformat": 4
 },
 "nbformat": 4,
 "nbformat_minor": 2
}
