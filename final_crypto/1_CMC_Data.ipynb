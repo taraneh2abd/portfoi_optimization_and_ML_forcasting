{
  "cells": [
    {
      "cell_type": "markdown",
      "metadata": {
        "id": "NBIPkpE5OQyk"
      },
      "source": [
        "#### **COINMARKETCAP'S FIRST PAGE**"
      ]
    },
    {
      "cell_type": "code",
      "execution_count": 1,
      "metadata": {
        "id": "s7-JKvUDOQyo"
      },
      "outputs": [],
      "source": [
        "#Import the libraries\n",
        "import pandas as pd\n",
        "import requests\n",
        "from bs4 import BeautifulSoup"
      ]
    },
    {
      "cell_type": "code",
      "execution_count": 2,
      "metadata": {
        "id": "wnlhJ3CdOQys"
      },
      "outputs": [],
      "source": [
        "#Create empty lists to store the data\n",
        "crypto_name_list = []\n",
        "crypto_symbol_list = []\n",
        "crypto_price_list = []\n",
        "crypto_1_h_list = []\n",
        "crypto_24_h_list = []\n",
        "crypto_7_d_list = []\n",
        "crypto_market_cap_list = []\n",
        "\n",
        "#Create an empty dataframe to help organize the data\n",
        "df = pd.DataFrame()"
      ]
    },
    {
      "cell_type": "code",
      "execution_count": 3,
      "metadata": {
        "id": "ON6OxsxxOQyt"
      },
      "outputs": [],
      "source": [
        "from datetime import date\n",
        "#Create a function to scrap the data\n",
        "# Example: https://coinmarketcap.com/historical/20220227/\n",
        "\n",
        "def scrape( date ='20190227/'):\n",
        "\n",
        "  #Get the URL of the website that we want to scrape\n",
        "  URL = 'https://coinmarketcap.com/historical/'+ date\n",
        "\n",
        "  #Make a request to the website\n",
        "  webpage = requests.get(URL)\n",
        "\n",
        "  #Parse the text from the website\n",
        "  soup = BeautifulSoup(webpage.text, 'html.parser')\n",
        "\n",
        "  #Get the table row element\n",
        "  tr = soup.find_all('tr', attrs={'class':'cmc-table-row'})\n",
        "  #Create  a count variable for the number of crypto currencies that we want scrape\n",
        "  count = 0\n",
        "  #Loop through every row to gather the data / information\n",
        "  for row in tr:\n",
        "    if count == 10:\n",
        "      break;\n",
        "    count = count + 1 #Increment count by 1\n",
        "\n",
        "    #store the name of the cryptocurrency into a variable\n",
        "    #Find the td element (or column) to later get the crypto currency name\n",
        "    name_column = row.find('td', attrs={'class':'cmc-table__cell cmc-table__cell'\n",
        "                                                '--sticky cmc-table__cell'\n",
        "                                                '--sortable cmc-table__cell'\n",
        "                                                '--left cmc-table__cell'\n",
        "                                                '--sort-by__name'})\n",
        "    crypto_name = name_column.find('a', attrs={'class':'cmc-table__column-name--name cmc-link'}).text.strip()\n",
        "\n",
        "    #Find and store the crypto supply and symbol\n",
        "    crypto_circulating_supply_and_symbol = row.find('td', attrs={'class':'cmc-table__cell cmc-table__cell'\n",
        "                                                                         '--sortable cmc-table__cell'\n",
        "                                                                         '--right cmc-table__cell'\n",
        "                                                                         '--sort-by__circulating-supply'}).text.strip()\n",
        "\n",
        "    #Find and store the crypto price\n",
        "    crypto_price = row.find('td', attrs={'class':'cmc-table__cell cmc-table__cell'\n",
        "                                         '--sortable cmc-table__cell'\n",
        "                                         '--right cmc-table__cell'\n",
        "                                         '--sort-by__price'}).text.strip()\n",
        "\n",
        "    #Find and store the crypto 1h%\n",
        "    crypto_1_h = row.find('td', attrs={'class':'cmc-table__cell cmc-table__cell'\n",
        "                                      '--sortable cmc-table__cell'\n",
        "                                      '--right cmc-table__cell'\n",
        "                                      '--sort-by__percent-change-1-h'}).text.strip()\n",
        "\n",
        "    #Find and store the crypto 24h%\n",
        "    crypto_24_h = row.find('td', attrs={'class':'cmc-table__cell cmc-table__cell'\n",
        "                                        '--sortable cmc-table__cell'\n",
        "                                        '--right cmc-table__cell'\n",
        "                                        '--sort-by__percent-change-24-h'}).text.strip()\n",
        "\n",
        "    #Find and store the crypto 7d%\n",
        "    crypto_7_d = row.find('td', attrs={'class':'cmc-table__cell cmc-table__cell'\n",
        "                                       '--sortable cmc-table__cell'\n",
        "                                       '--right cmc-table__cell'\n",
        "                                       '--sort-by__percent-change-7-d'}).text.strip()\n",
        "\n",
        "    #Store the coin market cap of the cryptocurrency or coin into a variable\n",
        "    crypto_market_cap = row.find('td', attrs={'class':'cmc-table__cell cmc-table__cell'\n",
        "                                              '--sortable cmc-table__cell'\n",
        "                                              '--right cmc-table__cell'\n",
        "                                              '--sort-by__market-cap'}).text.strip()\n",
        "\n",
        "    #Split the data\n",
        "    crypto_symbol = crypto_circulating_supply_and_symbol.split(' ')[1] #second word\n",
        "\n",
        "    #APPEND THE DATA TO THE LISTS\n",
        "    crypto_name_list.append(crypto_name)\n",
        "    crypto_symbol_list.append(crypto_symbol)\n",
        "    crypto_price_list.append(crypto_price)\n",
        "    crypto_1_h_list.append(crypto_1_h)\n",
        "    crypto_24_h_list.append(crypto_24_h)\n",
        "    crypto_7_d_list.append(crypto_7_d)\n",
        "    crypto_market_cap_list.append(crypto_market_cap)\n",
        "\n",
        "#Run the scrape function\n",
        "scrape(date ='20190227/')"
      ]
    },
    {
      "cell_type": "code",
      "execution_count": 4,
      "metadata": {
        "colab": {
          "base_uri": "https://localhost:8080/"
        },
        "id": "IfVbINi1OQyx",
        "outputId": "ea85cb23-ebab-414d-c94e-7cbe89c92ac3"
      },
      "outputs": [
        {
          "name": "stdout",
          "output_type": "stream",
          "text": [
            "           Name Symbol      Price     1h%    24h%      7d%          Market Cap\n",
            "0       Bitcoin    BTC  $3,851.05   0.83%  <0.01%   -3.31%  $67,631,949,500.09\n",
            "1      Ethereum    ETH    $136.13   2.05%  -0.98%   -7.83%  $14,298,070,643.69\n",
            "2           XRP    XRP    $0.3131   0.77%  -1.80%   -4.79%  $12,951,843,119.96\n",
            "3           EOS    EOS    $3.5303   1.89%   2.68%   -8.25%   $3,199,298,724.60\n",
            "4      Litecoin    LTC     $45.58   1.51%   0.52%  -10.90%   $2,765,113,387.47\n",
            "5  Bitcoin Cash    BCH    $132.79   0.97%  -0.63%   -9.44%   $2,343,107,843.70\n",
            "6        Tether   USDT    $1.0090  -0.07%  -0.24%    0.23%   $2,039,742,725.57\n",
            "7       Stellar    XLM    $0.0862   1.39%  -0.67%   -5.04%   $1,655,423,441.89\n",
            "8          TRON    TRX   $0.02413   0.62%  -0.67%   -3.92%   $1,609,080,600.87\n",
            "9  Binance Coin    BNB    $9.8991   0.25%   4.16%   -7.97%   $1,397,514,790.23\n"
          ]
        }
      ],
      "source": [
        "import pandas as pd\n",
        "\n",
        "# Create a DataFrame with 20 rows\n",
        "df = pd.DataFrame()\n",
        "\n",
        "# Add data lists to the DataFrame\n",
        "df['Name'] = crypto_name_list\n",
        "df['Symbol'] = crypto_symbol_list\n",
        "df['Price'] = crypto_price_list\n",
        "df['1h%'] = crypto_1_h_list\n",
        "df['24h%'] = crypto_24_h_list\n",
        "df['7d%'] = crypto_7_d_list\n",
        "df['Market Cap'] = crypto_market_cap_list\n",
        "\n",
        "# Show the DataFrame\n",
        "print(df)\n"
      ]
    },
    {
      "cell_type": "markdown",
      "metadata": {
        "id": "XGDSrKbjOQy1"
      },
      "source": [
        "#### **live data for last 7 day:**"
      ]
    },
    {
      "cell_type": "code",
      "execution_count": 23,
      "metadata": {
        "colab": {
          "base_uri": "https://localhost:8080/"
        },
        "id": "Ihy5gKjhOQy3",
        "outputId": "8be603fd-82da-4bd4-9144-7330ecd6e2b4"
      },
      "outputs": [
        {
          "name": "stdout",
          "output_type": "stream",
          "text": [
            "Failed to fetch data for page 1. Status Code: 429\n",
            "Failed to fetch data for page 2. Status Code: 429\n",
            "Failed to fetch data for page 3. Status Code: 429\n",
            "Failed to fetch data for page 4. Status Code: 429\n",
            "Empty DataFrame\n",
            "Columns: [Symbol, Price (USD), Market Cap (USD)]\n",
            "Index: []\n"
          ]
        }
      ],
      "source": [
        "import requests\n",
        "import pandas as pd\n",
        "\n",
        "# Define the number of cryptocurrencies to fetch (you can set your desired number)\n",
        "num_cryptos = 400\n",
        "\n",
        "# Define the API endpoint for cryptocurrency data\n",
        "api_url = 'https://api.coingecko.com/api/v3/coins/markets'\n",
        "\n",
        "# Create an empty DataFrame to store cryptocurrency data\n",
        "crypto_df = pd.DataFrame(columns=['Symbol', 'Price (USD)', 'Market Cap (USD)'])\n",
        "\n",
        "# Define the API request parameters for pages 1 to 4\n",
        "for page in [1, 2, 3, 4]:\n",
        "    params = {\n",
        "        'vs_currency': 'usd',          # Base currency (in this case, USD)\n",
        "        'order': 'market_cap_desc',    # Sort by market cap in descending order\n",
        "        'per_page': num_cryptos,       # Number of results per page (modify as needed)\n",
        "        'page': page                     # Page number (modify as needed)\n",
        "    }\n",
        "\n",
        "    try:\n",
        "        # Send a GET request to the API with the specified parameters\n",
        "        response = requests.get(api_url, params=params)\n",
        "\n",
        "        # Check if the request was successful (status code 200)\n",
        "        if response.status_code == 200:\n",
        "            # Parse the JSON response\n",
        "            data = response.json()\n",
        "\n",
        "            # Iterate through the cryptocurrency data and add names and prices to the DataFrame\n",
        "            for crypto in data:\n",
        "                if crypto['market_cap'] > 50000000:  # Filter based on market cap > $50 million\n",
        "                    symbol = crypto['symbol']\n",
        "                    price_usd = float(crypto['current_price'])\n",
        "                    market_cap = crypto['market_cap']\n",
        "                    formatted_crypto = f\"{symbol}, {price_usd:.2f}-USD, {market_cap:.2f}-USD\"  # Display price with two decimal places\n",
        "                    crypto_df = pd.concat([crypto_df, pd.DataFrame({'Symbol': symbol, 'Price (USD)': price_usd, 'Market Cap (USD)': market_cap}, index=[0])], ignore_index=True)\n",
        "\n",
        "        else:\n",
        "            print(f\"Failed to fetch data for page {page}. Status Code: {response.status_code}\")\n",
        "\n",
        "    except Exception as e:\n",
        "        print(f\"An error occurred on page {page}: {str(e)}\")\n",
        "\n",
        "# Sort the list based on market cap (from largest to smallest)\n",
        "crypto_df.sort_values(by='Market Cap (USD)', ascending=False, inplace=True)\n",
        "\n",
        "# Display the sorted DataFrame\n",
        "print(crypto_df)\n"
      ]
    },
    {
      "cell_type": "code",
      "execution_count": 24,
      "metadata": {
        "colab": {
          "base_uri": "https://localhost:8080/"
        },
        "id": "EhPRebNLOQy5",
        "outputId": "ed2405bc-a4b2-4122-eebf-e26c42a14c37"
      },
      "outputs": [
        {
          "name": "stdout",
          "output_type": "stream",
          "text": [
            "[]\n"
          ]
        }
      ],
      "source": [
        "# Extract the 'Symbol' column from the DataFrame and format it\n",
        "crypto_symbols = [symbol.upper() + '-USD' for symbol in crypto_df['Symbol']]\n",
        "# Display the formatted symbols list\n",
        "print(crypto_symbols)\n",
        "\n",
        "\n",
        "#_____________________________________________ symbols just for backup :__________________________________________\n",
        "# crypto_symbols = [\n",
        "#     'BTC-USD', 'ETH-USD', 'USDT-USD', 'BNB-USD', 'XRP-USD', 'USDC-USD', 'ADA-USD', 'DOGE-USD', 'SOL-USD', 'TRX-USD',\n",
        "#     'TON-USD', 'DAI-USD', 'DOT-USD', 'MATIC-USD', 'LTC-USD', 'SHIB-USD', 'WBTC-USD', 'BCH-USD', 'LEO-USD', 'UNUS-USD',\n",
        "#     'SED-USD', 'AVAX-USD', 'LINK-USD', 'XLM-USD', 'TUSD-USD', 'XMR-USD', 'OKB-USD', 'ATOM-USD', 'BUSD-USD', 'UNI-USD',\n",
        "#     'ETC-USD', 'HBAR-USD', 'FIL-USD', 'LDO-USD', 'DAO-USD', 'ICP-USD', 'MNT-USD', 'CRO-USD', 'VET-USD', 'APT-USD'/\n",
        "#     'MKR-USD', 'QNT-USD', 'OP-USD', 'NEAR-USD', 'ARB-USD', 'AAVE-USD', 'GRT-USD', 'XDC-USD', 'ALGO-USD', 'USDD-USD',\n",
        "#     'AXS-USD', 'STX-USD', 'EGLD-USD', 'EOS-USD', 'XTZ-USD', 'SAND-USD', 'BSV-USD', 'THETA-USD', 'INJ-USD', 'IMX-USD',\n",
        "#     'RUNE-USD', 'SNX-USD', 'RNDR-USD', 'MANA-USD', 'FTM-USD', 'NEO-USD', 'USDP-USD', 'KAVA-USD', 'XAUT-USD', 'PAXG-USD',\n",
        "#     'XEC-USD', 'MIOTA-USD', 'FLOW-USD', 'RPL-USD', 'CHZ-USD', 'ZEC-USD', 'APE-USD', 'KCS-USD', 'FXS-USD', 'CFX-USD',\n",
        "#     'HT-USD', 'KLAY-USD', 'CSPR-USD', 'CRV-USD', 'GT-USD', 'MINA-USD', 'SUI-USD', 'GALA-USD', 'LUNC-USD',\n",
        "#     'TWT-USD', 'COMP-USD', 'DYDX-USD', 'GUSD-USD', 'NFT-USD', 'APENFT-USD', 'NEXO-USD', 'DASH-USD', 'WOO-USD', 'GMX-USD',\n",
        "#     'AR-USD', 'FLR-USD', 'PEPE-USD', 'ROSE-USD', 'GNO-USD', 'BAT-USD', 'ZIL-USD', '1INCH-USD', 'CAKE-USD', 'SFP-USD',\n",
        "#     'LRC-USD', 'XCH-USD', 'MX-USD', 'AGIX-USD', 'XEM-USD', 'QTUM-USD', 'ENS-USD', 'ELF-USD', 'ENJ-USD', 'BTG-USD',\n",
        "#     'CELO-USD', 'TOMI-USD', 'MASK-USD', 'SEI-USD', 'HNT-USD', 'DCR-USD', 'TFUEL-USD', 'RVN-USD', 'CVX-USD', 'AKT-USD',\n",
        "#     'OCEAN-USD', 'JST-USD', 'BONE-USD', 'FET-USD', 'ANKR-USD', 'GMT-USD', 'STEPN-USD', 'HOT-USD', 'YFI-USD', 'WAVES-USD',\n",
        "#     'BAL-USD', 'LPT-USD', 'GLM-USD', 'JASMY-USD', 'ANT-USD', 'AUDIO-USD', 'OSMO-USD', 'BLUR-USD', 'ICX-USD', 'SC-USD',\n",
        "#     'T-USD', 'SSV-USD', 'KSM-USD', 'ZRX-USD', 'FLOKI-USD', 'LUNA-USD', 'SXP-USD', 'HIVE-USD', 'ILV-USD', 'IOTX-USD',\n",
        "#     'SUSHI-USD', 'ETHW-USD', 'ONT-USD', 'AXL-USD', 'WLD-USD', 'BICO-USD', 'BAND-USD', 'STORJ-USD', 'IOST-USD', 'WAXP-USD',\n",
        "#     'ONE-USD', 'KDA-USD', 'GLMR-USD', 'USTC-USD', 'TOMO-USD', 'MC-USD', 'CKB-USD', 'MAGIC-USD', 'DGB-USD', 'BORA-USD',\n",
        "#     'SKL-USD', 'HIFI-USD', 'MOB-USD', 'DAO-USD', 'GAL-USD', 'MTL-USD', 'FLUX-USD', 'UMA-USD', 'ACH-USD', 'ZEN-USD',\n",
        "#     'RSR-USD', 'STG-USD', 'RBN-USD', 'EVER-USD', 'CTSI-USD', 'LSK-USD', 'UNIBOT-USD', 'PYR-USD', 'KNC-USD', 'API3-USD',\n",
        "#     'STPT-USD', 'CFG-USD', 'CELR-USD', 'PUNDIX-USD'\n",
        "# ]\n"
      ]
    },
    {
      "cell_type": "code",
      "execution_count": 25,
      "metadata": {
        "colab": {
          "base_uri": "https://localhost:8080/"
        },
        "id": "CEo-nv1bOQy8",
        "outputId": "5722d789-98b3-476b-f483-1032d7eaf325"
      },
      "outputs": [
        {
          "name": "stdout",
          "output_type": "stream",
          "text": [
            "Empty DataFrame\n",
            "Columns: [Symbol, Percentage Change in last 7d, Max Price, Min Price]\n",
            "Index: []\n"
          ]
        }
      ],
      "source": [
        "import datetime\n",
        "import yfinance as yf\n",
        "import pandas as pd\n",
        "\n",
        "# Create an empty DataFrame to store cryptocurrency data\n",
        "crypto_data = pd.DataFrame(columns=['Symbol', 'Percentage Change in last 7d', 'Max Price', 'Min Price'])\n",
        "\n",
        "# Loop through each cryptocurrency symbol and retrieve data\n",
        "for symbol in crypto_symbols[:250]:\n",
        "    try:\n",
        "        end_date = datetime.datetime.now()\n",
        "        start_date = end_date - datetime.timedelta(weeks=1)\n",
        "\n",
        "        data = yf.download(symbol, start=start_date, end=end_date)\n",
        "\n",
        "        # Calculate percentage change\n",
        "        percentage_change = ((data['High'][-1] - data['Low'][0]) / data['Low'][0]) * 100\n",
        "\n",
        "        # Find max and min prices (High and Low) in the last 7 days\n",
        "        max_price = data['High'].max()\n",
        "        min_price = data['Low'].min()\n",
        "\n",
        "        # Add data to the DataFrame\n",
        "        crypto_data = crypto_data.append({\n",
        "            'Symbol': symbol,\n",
        "            'Percentage Change in last 7d': percentage_change,\n",
        "            'Max Price': max_price,\n",
        "            'Min Price': min_price\n",
        "        }, ignore_index=True)\n",
        "    except Exception as e:\n",
        "        print(f\"Error getting data for {symbol}: {e}\")\n",
        "\n",
        "# Sort DataFrame by Percentage Change in last 7 days in descending order\n",
        "crypto_data.sort_values(by='Percentage Change in last 7d', ascending=False, inplace=True)\n",
        "\n",
        "# Print the top 200 cryptocurrencies by Percentage Change in last 7 days\n",
        "top_200_cryptos = crypto_data.head(200)\n",
        "print(top_200_cryptos)\n",
        "\n",
        "# Save the data to a CSV file\n",
        "crypto_data.to_csv('data_7d%.csv', index=False)\n"
      ]
    },
    {
      "cell_type": "code",
      "execution_count": 26,
      "metadata": {
        "colab": {
          "base_uri": "https://localhost:8080/",
          "height": 138
        },
        "id": "LWeYvGUmOQzN",
        "outputId": "ae0345c1-8cc2-4288-ccb0-5c545c2d50dc"
      },
      "outputs": [
        {
          "data": {
            "text/html": [
              "\n",
              "  <div id=\"df-a91ddc8a-a7d7-4dd5-bae5-96c6046d0f68\" class=\"colab-df-container\">\n",
              "    <div>\n",
              "<style scoped>\n",
              "    .dataframe tbody tr th:only-of-type {\n",
              "        vertical-align: middle;\n",
              "    }\n",
              "\n",
              "    .dataframe tbody tr th {\n",
              "        vertical-align: top;\n",
              "    }\n",
              "\n",
              "    .dataframe thead th {\n",
              "        text-align: right;\n",
              "    }\n",
              "</style>\n",
              "<table border=\"1\" class=\"dataframe\">\n",
              "  <thead>\n",
              "    <tr style=\"text-align: right;\">\n",
              "      <th></th>\n",
              "      <th>Symbol</th>\n",
              "      <th>7d%</th>\n",
              "      <th>Max Price</th>\n",
              "      <th>Min Price</th>\n",
              "      <th>max-min</th>\n",
              "      <th>Fluctuation</th>\n",
              "    </tr>\n",
              "  </thead>\n",
              "  <tbody>\n",
              "  </tbody>\n",
              "</table>\n",
              "</div>\n",
              "    <div class=\"colab-df-buttons\">\n",
              "\n",
              "  <div class=\"colab-df-container\">\n",
              "    <button class=\"colab-df-convert\" onclick=\"convertToInteractive('df-a91ddc8a-a7d7-4dd5-bae5-96c6046d0f68')\"\n",
              "            title=\"Convert this dataframe to an interactive table.\"\n",
              "            style=\"display:none;\">\n",
              "\n",
              "  <svg xmlns=\"http://www.w3.org/2000/svg\" height=\"24px\" viewBox=\"0 -960 960 960\">\n",
              "    <path d=\"M120-120v-720h720v720H120Zm60-500h600v-160H180v160Zm220 220h160v-160H400v160Zm0 220h160v-160H400v160ZM180-400h160v-160H180v160Zm440 0h160v-160H620v160ZM180-180h160v-160H180v160Zm440 0h160v-160H620v160Z\"/>\n",
              "  </svg>\n",
              "    </button>\n",
              "\n",
              "  <style>\n",
              "    .colab-df-container {\n",
              "      display:flex;\n",
              "      gap: 12px;\n",
              "    }\n",
              "\n",
              "    .colab-df-convert {\n",
              "      background-color: #E8F0FE;\n",
              "      border: none;\n",
              "      border-radius: 50%;\n",
              "      cursor: pointer;\n",
              "      display: none;\n",
              "      fill: #1967D2;\n",
              "      height: 32px;\n",
              "      padding: 0 0 0 0;\n",
              "      width: 32px;\n",
              "    }\n",
              "\n",
              "    .colab-df-convert:hover {\n",
              "      background-color: #E2EBFA;\n",
              "      box-shadow: 0px 1px 2px rgba(60, 64, 67, 0.3), 0px 1px 3px 1px rgba(60, 64, 67, 0.15);\n",
              "      fill: #174EA6;\n",
              "    }\n",
              "\n",
              "    .colab-df-buttons div {\n",
              "      margin-bottom: 4px;\n",
              "    }\n",
              "\n",
              "    [theme=dark] .colab-df-convert {\n",
              "      background-color: #3B4455;\n",
              "      fill: #D2E3FC;\n",
              "    }\n",
              "\n",
              "    [theme=dark] .colab-df-convert:hover {\n",
              "      background-color: #434B5C;\n",
              "      box-shadow: 0px 1px 3px 1px rgba(0, 0, 0, 0.15);\n",
              "      filter: drop-shadow(0px 1px 2px rgba(0, 0, 0, 0.3));\n",
              "      fill: #FFFFFF;\n",
              "    }\n",
              "  </style>\n",
              "\n",
              "    <script>\n",
              "      const buttonEl =\n",
              "        document.querySelector('#df-a91ddc8a-a7d7-4dd5-bae5-96c6046d0f68 button.colab-df-convert');\n",
              "      buttonEl.style.display =\n",
              "        google.colab.kernel.accessAllowed ? 'block' : 'none';\n",
              "\n",
              "      async function convertToInteractive(key) {\n",
              "        const element = document.querySelector('#df-a91ddc8a-a7d7-4dd5-bae5-96c6046d0f68');\n",
              "        const dataTable =\n",
              "          await google.colab.kernel.invokeFunction('convertToInteractive',\n",
              "                                                    [key], {});\n",
              "        if (!dataTable) return;\n",
              "\n",
              "        const docLinkHtml = 'Like what you see? Visit the ' +\n",
              "          '<a target=\"_blank\" href=https://colab.research.google.com/notebooks/data_table.ipynb>data table notebook</a>'\n",
              "          + ' to learn more about interactive tables.';\n",
              "        element.innerHTML = '';\n",
              "        dataTable['output_type'] = 'display_data';\n",
              "        await google.colab.output.renderOutput(dataTable, element);\n",
              "        const docLink = document.createElement('div');\n",
              "        docLink.innerHTML = docLinkHtml;\n",
              "        element.appendChild(docLink);\n",
              "      }\n",
              "    </script>\n",
              "  </div>\n",
              "\n",
              "    </div>\n",
              "  </div>\n"
            ],
            "text/plain": [
              "Empty DataFrame\n",
              "Columns: [Symbol, 7d%, Max Price, Min Price, max-min, Fluctuation]\n",
              "Index: []"
            ]
          },
          "execution_count": 26,
          "metadata": {},
          "output_type": "execute_result"
        }
      ],
      "source": [
        "import pandas as pd\n",
        "import numpy as np\n",
        "\n",
        "# Rename the 'Percentage Change in Last 7 Days' column to '7d%'\n",
        "crypto_data.rename(columns={'Percentage Change in last 7d': '7d%'}, inplace=True)\n",
        "\n",
        "# Replace infinite values with NaN\n",
        "crypto_data = crypto_data.replace([np.inf, -np.inf], np.nan)\n",
        "\n",
        "# Remove rows with NaN\n",
        "crypto_data = crypto_data.dropna(subset=['7d%'])\n",
        "crypto_data = crypto_data[crypto_data['7d%'] != 0]\n",
        "\n",
        "# Sort the DataFrame by 'Max close Price' in descending order\n",
        "crypto_data = crypto_data.sort_values(by='Max Price', ascending=False)\n",
        "\n",
        "# Calculate the 'max-min' column correctly\n",
        "crypto_data['max-min'] = crypto_data['Max Price'] - crypto_data['Min Price']\n",
        "\n",
        "# Define a custom function to calculate the 'Fluctuation' column\n",
        "def calculate_fluctuation(row):\n",
        "    max_price = row['Max Price']\n",
        "    min_price = row['Min Price']\n",
        "    return (max_price - min_price) / min_price\n",
        "\n",
        "# Apply the custom function to create the 'Fluctuation' column\n",
        "crypto_data['Fluctuation'] = crypto_data.apply(calculate_fluctuation, axis=1)\n",
        "\n",
        "crypto_data.to_csv('data_7d%.csv', index=False)\n",
        "crypto_data\n"
      ]
    }
  ],
  "metadata": {
    "colab": {
      "provenance": []
    },
    "kernelspec": {
      "display_name": "Python 3",
      "language": "python",
      "name": "python3"
    },
    "language_info": {
      "codemirror_mode": {
        "name": "ipython",
        "version": 3
      },
      "file_extension": ".py",
      "mimetype": "text/x-python",
      "name": "python",
      "nbconvert_exporter": "python",
      "pygments_lexer": "ipython3",
      "version": "3.11.2"
    },
    "orig_nbformat": 4
  },
  "nbformat": 4,
  "nbformat_minor": 0
}
